{
  "nbformat": 4,
  "nbformat_minor": 0,
  "metadata": {
    "colab": {
      "provenance": []
    },
    "kernelspec": {
      "name": "python3",
      "display_name": "Python 3"
    },
    "language_info": {
      "name": "python"
    }
  },
  "cells": [
    {
      "cell_type": "code",
      "execution_count": 8,
      "metadata": {
        "colab": {
          "base_uri": "https://localhost:8080/"
        },
        "id": "7jHffpETN2Qv",
        "outputId": "193d39b9-2c68-4ad9-f755-5b665b8525ff"
      },
      "outputs": [
        {
          "output_type": "stream",
          "name": "stderr",
          "text": [
            "<ipython-input-8-5a5d2211fc88>:15: FutureWarning: A value is trying to be set on a copy of a DataFrame or Series through chained assignment using an inplace method.\n",
            "The behavior will change in pandas 3.0. This inplace method will never work because the intermediate object on which we are setting values always behaves as a copy.\n",
            "\n",
            "For example, when doing 'df[col].method(value, inplace=True)', try using 'df.method({col: value}, inplace=True)' or df[col] = df[col].method(value) instead, to perform the operation inplace on the original object.\n",
            "\n",
            "\n",
            "  df['Year'].fillna(df['Year'].median(), inplace=True)\n",
            "<ipython-input-8-5a5d2211fc88>:19: FutureWarning: A value is trying to be set on a copy of a DataFrame or Series through chained assignment using an inplace method.\n",
            "The behavior will change in pandas 3.0. This inplace method will never work because the intermediate object on which we are setting values always behaves as a copy.\n",
            "\n",
            "For example, when doing 'df[col].method(value, inplace=True)', try using 'df.method({col: value}, inplace=True)' or df[col] = df[col].method(value) instead, to perform the operation inplace on the original object.\n",
            "\n",
            "\n",
            "  df['Duration'].fillna(df['Duration'].median(), inplace=True)\n",
            "<ipython-input-8-5a5d2211fc88>:22: FutureWarning: A value is trying to be set on a copy of a DataFrame or Series through chained assignment using an inplace method.\n",
            "The behavior will change in pandas 3.0. This inplace method will never work because the intermediate object on which we are setting values always behaves as a copy.\n",
            "\n",
            "For example, when doing 'df[col].method(value, inplace=True)', try using 'df.method({col: value}, inplace=True)' or df[col] = df[col].method(value) instead, to perform the operation inplace on the original object.\n",
            "\n",
            "\n",
            "  df['Genre'].fillna(df['Genre'].mode()[0], inplace=True)\n",
            "<ipython-input-8-5a5d2211fc88>:25: FutureWarning: A value is trying to be set on a copy of a DataFrame or Series through chained assignment using an inplace method.\n",
            "The behavior will change in pandas 3.0. This inplace method will never work because the intermediate object on which we are setting values always behaves as a copy.\n",
            "\n",
            "For example, when doing 'df[col].method(value, inplace=True)', try using 'df.method({col: value}, inplace=True)' or df[col] = df[col].method(value) instead, to perform the operation inplace on the original object.\n",
            "\n",
            "\n",
            "  df['Rating'].fillna(df['Rating'].median(), inplace=True)\n",
            "<ipython-input-8-5a5d2211fc88>:27: FutureWarning: A value is trying to be set on a copy of a DataFrame or Series through chained assignment using an inplace method.\n",
            "The behavior will change in pandas 3.0. This inplace method will never work because the intermediate object on which we are setting values always behaves as a copy.\n",
            "\n",
            "For example, when doing 'df[col].method(value, inplace=True)', try using 'df.method({col: value}, inplace=True)' or df[col] = df[col].method(value) instead, to perform the operation inplace on the original object.\n",
            "\n",
            "\n",
            "  df['Votes'].fillna(df['Votes'].median(), inplace=True)\n"
          ]
        },
        {
          "output_type": "stream",
          "name": "stdout",
          "text": [
            "Mean Absolute Error: 0.45486750483558985\n",
            "Mean Squared Error: 0.6918746985815603\n",
            "R² Score: 0.28849468996496996\n"
          ]
        }
      ],
      "source": [
        "# Import necessary libraries\n",
        "import pandas as pd\n",
        "import numpy as np\n",
        "from sklearn.model_selection import train_test_split\n",
        "from sklearn.ensemble import RandomForestRegressor\n",
        "from sklearn.metrics import mean_absolute_error, mean_squared_error, r2_score\n",
        "\n",
        "# Step 1: Load the dataset\n",
        "df = pd.read_csv('Movies.csv', encoding='latin-1')\n",
        "\n",
        "# Step 2: Handle missing values\n",
        "\n",
        "# Convert 'Year' column to numbers and fill missing values with median\n",
        "df['Year'] = df['Year'].astype(str).str.extract(r'(\\d+)').astype(float)\n",
        "df['Year'].fillna(df['Year'].median(), inplace=True)\n",
        "\n",
        "# Convert 'Duration' to numbers and fill missing values with median\n",
        "df['Duration'] = df['Duration'].str.replace(' min', '', regex=False).astype(float)\n",
        "df['Duration'].fillna(df['Duration'].median(), inplace=True)\n",
        "\n",
        "# Fill missing 'Genre' with the most common (mode)\n",
        "df['Genre'].fillna(df['Genre'].mode()[0], inplace=True)\n",
        "\n",
        "# Fill missing 'Rating' and 'Votes' with median values\n",
        "df['Rating'].fillna(df['Rating'].median(), inplace=True)\n",
        "df['Votes'] = df['Votes'].astype(str).str.extract(r'(\\d+)').astype(float)\n",
        "df['Votes'].fillna(df['Votes'].median(), inplace=True)\n",
        "\n",
        "# Fill missing 'Director' and 'Actors' with \"unknown\"\n",
        "df.fillna({'Director': 'unknown', 'Actor 1': 'unknown', 'Actor 2': 'unknown', 'Actor 3': 'unknown'}, inplace=True)\n",
        "\n",
        "# Step 3: Convert categorical data into numbers\n",
        "df['Genre'] = df['Genre'].factorize()[0]\n",
        "df['Director'] = df['Director'].factorize()[0]\n",
        "df['Actor 1'] = df['Actor 1'].factorize()[0]\n",
        "df['Actor 2'] = df['Actor 2'].factorize()[0]\n",
        "df['Actor 3'] = df['Actor 3'].factorize()[0]\n",
        "\n",
        "# Step 4: Split data into Features (X) and Target (y)\n",
        "X = df[['Genre', 'Director', 'Actor 1', 'Actor 2', 'Actor 3', 'Year', 'Duration', 'Votes']]  # Features\n",
        "y = df['Rating']  # Target (Movie Rating)\n",
        "\n",
        "# Split dataset into Training (80%) and Testing (20%)\n",
        "X_train, X_test, y_train, y_test = train_test_split(X, y, test_size=0.2, random_state=42)\n",
        "\n",
        "# Step 5: Train the model\n",
        "model = RandomForestRegressor(n_estimators=100, random_state=42)\n",
        "model.fit(X_train, y_train)\n",
        "\n",
        "# Step 6: Make predictions\n",
        "y_pred = model.predict(X_test)\n",
        "\n",
        "# Step 7: Evaluate the model\n",
        "mae = mean_absolute_error(y_test, y_pred)\n",
        "mse = mean_squared_error(y_test, y_pred)\n",
        "r2 = r2_score(y_test, y_pred)\n",
        "\n",
        "# Display results\n",
        "print(f\"Mean Absolute Error: {mae}\")\n",
        "print(f\"Mean Squared Error: {mse}\")\n",
        "print(f\"R² Score: {r2}\")\n"
      ]
    }
  ]
}